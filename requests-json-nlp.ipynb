{
 "cells": [
  {
   "cell_type": "markdown",
   "metadata": {},
   "source": [
    "# Web Mining and Applied NLP (44-620)\n",
    "\n",
    "## Requests, JSON, and NLP\n",
    "\n",
    "### Student Name:\n",
    "\n",
    "Perform the tasks described in the Markdown cells below.  When you have completed the assignment make sure your code cells have all been run (and have output beneath them) and ensure you have committed and pushed ALL of your changes to your assignment repository.\n",
    "\n",
    "Make sure you have [installed spaCy and its pipeline](https://spacy.io/usage#quickstart) and [spaCyTextBlob](https://spacy.io/universe/project/spacy-textblob)\n",
    "\n",
    "Every question that requires you to write code will have a code cell underneath it; you may either write your entire solution in that cell or write it in a python file (`.py`), then import and run the appropriate code to answer the question.\n",
    "\n",
    "This assignment requires that you write additional files (either JSON or pickle files); make sure to submit those files in your repository as well."
   ]
  },
  {
   "cell_type": "markdown",
   "metadata": {},
   "source": [
    "1. The following code accesses the [lyrics.ovh](https://lyricsovh.docs.apiary.io/#reference/0/lyrics-of-a-song/search) public api, searches for the lyrics of a song, and stores it in a dictionary object.  Write the resulting json to a file (either a JSON file or a pickle file; you choose). You will read in the contents of this file for future questions so we do not need to frequently access the API."
   ]
  },
  {
   "cell_type": "code",
   "execution_count": 6,
   "metadata": {},
   "outputs": [
    {
     "name": "stdout",
     "output_type": "stream",
     "text": [
      "Lyrics successfully saved to fix_you_lyrics.json.\n"
     ]
    }
   ],
   "source": [
    "import requests\n",
    "import json\n",
    "\n",
    "# Request lyrics from the API\n",
    "url = 'https://api.lyrics.ovh/v1/Coldplay/Fix You'\n",
    "response = requests.get(url)\n",
    "\n",
    "# Check if the response was successful\n",
    "if response.status_code == 200:\n",
    "    result = response.json()\n",
    "    \n",
    "    # Save to a JSON file\n",
    "    with open('fix_you_lyrics.json', 'w', encoding='utf-8') as f:\n",
    "        json.dump(result, f, ensure_ascii=False, indent=4)\n",
    "    \n",
    "    print(\"Lyrics successfully saved to fix_you_lyrics.json.\")\n",
    "else:\n",
    "    print(f\"Request failed with status code: {response.status_code}\")\n"
   ]
  },
  {
   "cell_type": "markdown",
   "metadata": {},
   "source": [
    "2. Read in the contents of your file.  Print the lyrics of the song (not the entire dictionary!) and use spaCyTextBlob to perform sentiment analysis on the lyrics.  Print the polarity score of the sentiment analysis.  Given that the range of the polarity score is `[-1.0,1.0]` which corresponds to how positive or negative the text in question is, do you think the lyrics have a more positive or negative connotaion?  Answer this question in a comment in your code cell."
   ]
  },
  {
   "cell_type": "code",
   "execution_count": 7,
   "metadata": {},
   "outputs": [
    {
     "name": "stdout",
     "output_type": "stream",
     "text": [
      "Lyrics:\n",
      "\n",
      "When you try your best but you don't succeed \n",
      "When you get what you want but not what you need \n",
      "When you feel so tired but you can't sleep \n",
      "Stuck in reverse \n",
      "And the tears come streaming down your face \n",
      "\n",
      "When you lose something you can't replace \n",
      "\n",
      "When you love someone but it goes to waste\n",
      "\n",
      "Could it be worse? \n",
      "\n",
      "\n",
      "\n",
      "Lights will guide you home \n",
      "\n",
      "And ignite your bones \n",
      "\n",
      "And I will try to fix you \n",
      "\n",
      "\n",
      "\n",
      "High up above or down below \n",
      "\n",
      "When you're too in love to let it go \n",
      "\n",
      "But if you never try you'll never know \n",
      "\n",
      "Just what you're worth \n",
      "\n",
      "\n",
      "\n",
      "Lights will guide you home \n",
      "\n",
      "And ignite your bones \n",
      "\n",
      "And I will try to fix you \n",
      "\n",
      "\n",
      "\n",
      "Tears stream down your face \n",
      "\n",
      "When you lose something you cannot replace \n",
      "\n",
      "Tears stream down your face and I\n",
      "\n",
      "\n",
      "\n",
      "Tears stream down your face \n",
      "\n",
      "I promise you I will learn from all my mistakes \n",
      "\n",
      "Tears stream down your face and I\n",
      "\n",
      "\n",
      "\n",
      "Lights will guide you home \n",
      "\n",
      "And ignite your bones \n",
      "\n",
      "And I will try to fix you\n",
      "\n",
      "Polarity Score: 0.03511111111111111\n"
     ]
    }
   ],
   "source": [
    "import json\n",
    "import spacy\n",
    "from spacytextblob.spacytextblob import SpacyTextBlob\n",
    "\n",
    "# Load spaCy and add spaCyTextBlob\n",
    "nlp = spacy.load(\"en_core_web_sm\")\n",
    "if \"spacytextblob\" not in nlp.pipe_names:\n",
    "    nlp.add_pipe(\"spacytextblob\")\n",
    "\n",
    "# Load the JSON file\n",
    "with open('fix_you_lyrics.json', 'r', encoding='utf-8') as f:\n",
    "    data = json.load(f)\n",
    "\n",
    "# Extract and print the lyrics\n",
    "lyrics = data.get(\"lyrics\", \"\")\n",
    "print(\"Lyrics:\\n\")\n",
    "print(lyrics)\n",
    "\n",
    "# Analyze sentiment\n",
    "doc = nlp(lyrics)\n",
    "polarity_score = doc._.blob.polarity\n",
    "print(\"\\nPolarity Score:\", polarity_score)\n",
    "\n",
    "# Interpretation:\n",
    "# A score > 0 means positive sentiment, < 0 means negative, around 0 means neutral\n",
    "# I believe this song has a more positive sentiment overall, as it's about healing and support.\n"
   ]
  },
  {
   "cell_type": "markdown",
   "metadata": {},
   "source": [
    "3. Write a function that takes an artist, song, and filename, accesses the lyrics.ovh api to get the song lyrics, and writes the results to the specified filename.  Test this function by getting the lyrics to any four songs of your choice and storing them in different files."
   ]
  },
  {
   "cell_type": "code",
   "execution_count": null,
   "metadata": {},
   "outputs": [
    {
     "name": "stdout",
     "output_type": "stream",
     "text": [
      "Saved: adele_hello.json\n",
      "Failed to fetch lyrics for Ed Sheeran - Perfect\n",
      "Saved: eminem_lose_yourself.json\n",
      "Saved: coldplay_paradise.json\n"
     ]
    }
   ],
   "source": [
    "import requests\n",
    "import json\n",
    "\n",
    "def fetch_and_save_lyrics(artist, song, filename):\n",
    "    url = f\"https://api.lyrics.ovh/v1/{artist}/{song}\"\n",
    "    response = requests.get(url)\n",
    "    \n",
    "    if response.status_code == 200:\n",
    "        data = response.json()\n",
    "        with open(filename, 'w', encoding='utf-8') as f:\n",
    "            json.dump(data, f, indent=2)\n",
    "        print(f\"Saved: {filename}\")\n",
    "    else:\n",
    "        print(f\"Failed to fetch lyrics for {artist} - {song}\")\n",
    "\n",
    "# Fetch and save lyrics for 4 songs\n",
    "fetch_and_save_lyrics(\"Adele\", \"Hello\", \"adele_hello.json\")\n",
    "fetch_and_save_lyrics(\"Justin Bieber\", \"Baby\", \"justin_baby.json\")\n",
    "fetch_and_save_lyrics(\"Eminem\", \"Lose Yourself\", \"eminem_lose_yourself.json\")\n",
    "fetch_and_save_lyrics(\"Coldplay\", \"Paradise\", \"coldplay_paradise.json\")\n"
   ]
  },
  {
   "cell_type": "markdown",
   "metadata": {},
   "source": [
    "4. Write a function that takes the name of a file that contains song lyrics, loads the file, performs sentiment analysis, and returns the polarity score.  Use this function to print the polarity scores (with the name of the song) of the three files you created in question 3.  Does the reported polarity match your understanding of the song's lyrics? Why or why not do you think that might be?  Answer the questions in either a comment in the code cell or a markdown cell under the code cell."
   ]
  },
  {
   "cell_type": "code",
   "execution_count": null,
   "metadata": {},
   "outputs": [],
   "source": []
  }
 ],
 "metadata": {
  "kernelspec": {
   "display_name": ".venv",
   "language": "python",
   "name": "python3"
  },
  "language_info": {
   "codemirror_mode": {
    "name": "ipython",
    "version": 3
   },
   "file_extension": ".py",
   "mimetype": "text/x-python",
   "name": "python",
   "nbconvert_exporter": "python",
   "pygments_lexer": "ipython3",
   "version": "3.11.8"
  }
 },
 "nbformat": 4,
 "nbformat_minor": 4
}
